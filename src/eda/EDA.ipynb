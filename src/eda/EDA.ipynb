{
 "cells": [
  {
   "cell_type": "markdown",
   "id": "0e9b1ffa",
   "metadata": {},
   "source": [
    "# EDA of the NY houses dataset"
   ]
  },
  {
   "cell_type": "markdown",
   "id": "2312d548",
   "metadata": {},
   "source": [
    "This notebook explores the NYC houses raw dataset to find out problems and inconsistencies to be addressed during the preprocessing phase"
   ]
  },
  {
   "cell_type": "markdown",
   "id": "dab9e5ce",
   "metadata": {},
   "source": [
    "### Import dependencies"
   ]
  },
  {
   "cell_type": "code",
   "execution_count": 1,
   "id": "9ec5bb06",
   "metadata": {},
   "outputs": [],
   "source": [
    "import logging"
   ]
  },
  {
   "cell_type": "code",
   "execution_count": 2,
   "id": "b25673f0",
   "metadata": {},
   "outputs": [],
   "source": [
    "import pandas as pd\n",
    "import pandas_profiling\n",
    "import wandb"
   ]
  },
  {
   "cell_type": "markdown",
   "id": "290af0e4",
   "metadata": {},
   "source": [
    "### Configure logger"
   ]
  },
  {
   "cell_type": "code",
   "execution_count": 3,
   "id": "430397a1",
   "metadata": {},
   "outputs": [],
   "source": [
    "logging.basicConfig(level=logging.INFO)\n",
    "logger = logging.getLogger(__name__)"
   ]
  },
  {
   "cell_type": "markdown",
   "id": "119ac8de",
   "metadata": {},
   "source": [
    "### Define constants"
   ]
  },
  {
   "cell_type": "code",
   "execution_count": 4,
   "id": "ea7a98e2",
   "metadata": {},
   "outputs": [],
   "source": [
    "PROJECT_NAME = 'nyc_airbnb'\n",
    "GROUP_NAME = 'eda'\n",
    "RAW_ARTIFACT_NAME = 'sample.csv:latest'\n",
    "JOB_TYPE = 'eda'"
   ]
  },
  {
   "cell_type": "markdown",
   "id": "80d027d9",
   "metadata": {},
   "source": [
    "### Create W&B run and get the raw dataset artifact"
   ]
  },
  {
   "cell_type": "code",
   "execution_count": 5,
   "id": "713c619c",
   "metadata": {},
   "outputs": [
    {
     "name": "stderr",
     "output_type": "stream",
     "text": [
      "\u001b[34m\u001b[1mwandb\u001b[0m: Currently logged in as: \u001b[33mtom-ph\u001b[0m (use `wandb login --relogin` to force relogin)\n",
      "\u001b[34m\u001b[1mwandb\u001b[0m: wandb version 0.12.9 is available!  To upgrade, please run:\n",
      "\u001b[34m\u001b[1mwandb\u001b[0m:  $ pip install wandb --upgrade\n"
     ]
    },
    {
     "data": {
      "text/html": [
       "\n",
       "                Tracking run with wandb version 0.10.31<br/>\n",
       "                Syncing run <strong style=\"color:#cdcd00\">northern-terrain-12</strong> to <a href=\"https://wandb.ai\" target=\"_blank\">Weights & Biases</a> <a href=\"https://docs.wandb.com/integrations/jupyter.html\" target=\"_blank\">(Documentation)</a>.<br/>\n",
       "                Project page: <a href=\"https://wandb.ai/tom-ph/nyc_airbnb\" target=\"_blank\">https://wandb.ai/tom-ph/nyc_airbnb</a><br/>\n",
       "                Run page: <a href=\"https://wandb.ai/tom-ph/nyc_airbnb/runs/3vn6gkrv\" target=\"_blank\">https://wandb.ai/tom-ph/nyc_airbnb/runs/3vn6gkrv</a><br/>\n",
       "                Run data is saved locally in <code>/home/azureuser/udacity-mlops/nd0821-c2-build-model-workflow-starter/src/eda/wandb/run-20220104_130157-3vn6gkrv</code><br/><br/>\n",
       "            "
      ],
      "text/plain": [
       "<IPython.core.display.HTML object>"
      ]
     },
     "metadata": {},
     "output_type": "display_data"
    }
   ],
   "source": [
    "run = wandb.init(project=PROJECT_NAME, group=GROUP_NAME, job_type=JOB_TYPE, save_code=True)"
   ]
  },
  {
   "cell_type": "code",
   "execution_count": 6,
   "id": "dd98cf0d",
   "metadata": {},
   "outputs": [
    {
     "name": "stderr",
     "output_type": "stream",
     "text": [
      "INFO:__main__:raw dataset shape: (20000, 16)\n"
     ]
    }
   ],
   "source": [
    "raw_dataset_path = wandb.use_artifact(RAW_ARTIFACT_NAME).file()\n",
    "raw_data_df = pd.read_csv(raw_dataset_path)\n",
    "logger.info(f'raw dataset shape: {raw_data_df.shape}')"
   ]
  },
  {
   "cell_type": "markdown",
   "id": "8cd980c6",
   "metadata": {},
   "source": [
    "### Apply pandas profiling to explore the data"
   ]
  },
  {
   "cell_type": "code",
   "execution_count": 7,
   "id": "d424c4f7",
   "metadata": {},
   "outputs": [
    {
     "data": {
      "application/vnd.jupyter.widget-view+json": {
       "model_id": "fc19da08fc53488c99f5cf2dfbe7814a",
       "version_major": 2,
       "version_minor": 0
      },
      "text/plain": [
       "Summarize dataset:   0%|          | 0/29 [00:00<?, ?it/s]"
      ]
     },
     "metadata": {},
     "output_type": "display_data"
    },
    {
     "data": {
      "application/vnd.jupyter.widget-view+json": {
       "model_id": "71e4477673094d06a359eab891865aba",
       "version_major": 2,
       "version_minor": 0
      },
      "text/plain": [
       "Generate report structure:   0%|          | 0/1 [00:00<?, ?it/s]"
      ]
     },
     "metadata": {},
     "output_type": "display_data"
    },
    {
     "data": {
      "application/vnd.jupyter.widget-view+json": {
       "model_id": "",
       "version_major": 2,
       "version_minor": 0
      },
      "text/plain": [
       "Render widgets:   0%|          | 0/1 [00:00<?, ?it/s]"
      ]
     },
     "metadata": {},
     "output_type": "display_data"
    },
    {
     "data": {
      "application/vnd.jupyter.widget-view+json": {
       "model_id": "4a9faa4a832145dd9ca6159e613b33f6",
       "version_major": 2,
       "version_minor": 0
      },
      "text/plain": [
       "VBox(children=(Tab(children=(Tab(children=(GridBox(children=(VBox(children=(GridspecLayout(children=(HTML(valu…"
      ]
     },
     "metadata": {},
     "output_type": "display_data"
    }
   ],
   "source": [
    "profile = pandas_profiling.ProfileReport(raw_data_df)\n",
    "profile.to_widgets()"
   ]
  },
  {
   "cell_type": "markdown",
   "id": "3d0f40be",
   "metadata": {},
   "source": [
    "In our opionion, these are the main findings of the exploration:"
   ]
  },
  {
   "cell_type": "markdown",
   "id": "edb6423a",
   "metadata": {},
   "source": [
    "- Overall **the quality of the data is high.** Almost every feature has no missing values and values ranges seems consistent with expectations. As expected (never say never) the *id* column has no duplicate values. Also the *name* column has ~99% of unique values, and since it is a free text field the duplicate names could refer to distinct houses.\n",
    "- The\n",
    "- There are a few outliers with *prices* below the 5 percentile or above the 95 percentile. **During the preprocessing** we will drop the ones above the 95 percentile since they differ a lot from the mean and median and could have a negative effect in the training phase. We will also remove the ones below 10$ because they don't make sense from a business perspective.\n",
    "- The *last_review* column is a date but it is stored as a text. We will convert this column in the **preprocessing phase**, since in production we will accept only date values for this field.\n",
    "- There is a significative percentage of missing values in *last_review* and *reviews_per_month* (~20%). This makes sense, there are houses without reviews. The imputation will be addressed in the **inference pipeline** since it is possible to find this scenario in production."
   ]
  },
  {
   "cell_type": "markdown",
   "id": "d1a48a9f",
   "metadata": {},
   "source": [
    "These are the findings we want to explore further:"
   ]
  },
  {
   "cell_type": "markdown",
   "id": "73c5273a",
   "metadata": {},
   "source": [
    "- There is a high percentage (~36%) of zeros for the *availability_365* column. We will explore these samples to understand if the zeros make sense from a business point of view or are a replacement for missing values.\n",
    "- We will also investigate outliers in price to see if the features have similar distributions."
   ]
  },
  {
   "cell_type": "code",
   "execution_count": 8,
   "id": "f1ba3935",
   "metadata": {},
   "outputs": [
    {
     "name": "stderr",
     "output_type": "stream",
     "text": [
      "INFO:__main__:there are 7176 records with 0 availability_365\n"
     ]
    }
   ],
   "source": [
    "unavailable_df = raw_data_df[raw_data_df['availability_365']==0]\n",
    "logger.info(f'there are {unavailable_df.shape[0]} records with 0 availability_365')"
   ]
  },
  {
   "cell_type": "code",
   "execution_count": 9,
   "id": "68dec18d",
   "metadata": {},
   "outputs": [
    {
     "data": {
      "application/vnd.jupyter.widget-view+json": {
       "model_id": "5a6d5940fc5f41289cc9d7d702d2d3f6",
       "version_major": 2,
       "version_minor": 0
      },
      "text/plain": [
       "Summarize dataset:   0%|          | 0/30 [00:00<?, ?it/s]"
      ]
     },
     "metadata": {},
     "output_type": "display_data"
    },
    {
     "data": {
      "application/vnd.jupyter.widget-view+json": {
       "model_id": "7725e0ceb9914a90abc58c8d331ffe4e",
       "version_major": 2,
       "version_minor": 0
      },
      "text/plain": [
       "Generate report structure:   0%|          | 0/1 [00:00<?, ?it/s]"
      ]
     },
     "metadata": {},
     "output_type": "display_data"
    },
    {
     "data": {
      "application/vnd.jupyter.widget-view+json": {
       "model_id": "",
       "version_major": 2,
       "version_minor": 0
      },
      "text/plain": [
       "Render widgets:   0%|          | 0/1 [00:00<?, ?it/s]"
      ]
     },
     "metadata": {},
     "output_type": "display_data"
    },
    {
     "data": {
      "application/vnd.jupyter.widget-view+json": {
       "model_id": "0a67caada3dc48d792cc64a393baf2af",
       "version_major": 2,
       "version_minor": 0
      },
      "text/plain": [
       "VBox(children=(Tab(children=(Tab(children=(GridBox(children=(VBox(children=(GridspecLayout(children=(HTML(valu…"
      ]
     },
     "metadata": {},
     "output_type": "display_data"
    }
   ],
   "source": [
    "unavailable_profile = pandas_profiling.ProfileReport(unavailable_df)\n",
    "unavailable_profile.to_widgets()"
   ]
  },
  {
   "cell_type": "markdown",
   "id": "187e4e8c",
   "metadata": {},
   "source": [
    "The two datasets are really similar dispite the business meaning of the *availability_365* column. It could make sense to impute the zeros and see if the training benefits from this strategy. This strategy should be applied in the **inference pipeline**, since that if our hypothesis is true, probably this data will not always be available in production."
   ]
  },
  {
   "cell_type": "code",
   "execution_count": 10,
   "id": "7726d446",
   "metadata": {},
   "outputs": [
    {
     "name": "stderr",
     "output_type": "stream",
     "text": [
      "INFO:__main__:there are 994 records with price > 95 percentile\n"
     ]
    }
   ],
   "source": [
    "high_price_df = raw_data_df[raw_data_df['price']>350]\n",
    "logger.info(f'there are {high_price_df.shape[0]} records with price > 95 percentile')"
   ]
  },
  {
   "cell_type": "code",
   "execution_count": 11,
   "id": "c4dec072",
   "metadata": {},
   "outputs": [
    {
     "data": {
      "application/vnd.jupyter.widget-view+json": {
       "model_id": "d5e05058ffda4cabb75f3149e8fdd31b",
       "version_major": 2,
       "version_minor": 0
      },
      "text/plain": [
       "Summarize dataset:   0%|          | 0/30 [00:00<?, ?it/s]"
      ]
     },
     "metadata": {},
     "output_type": "display_data"
    },
    {
     "data": {
      "application/vnd.jupyter.widget-view+json": {
       "model_id": "42777c9482114dea82e962542afb05b5",
       "version_major": 2,
       "version_minor": 0
      },
      "text/plain": [
       "Generate report structure:   0%|          | 0/1 [00:00<?, ?it/s]"
      ]
     },
     "metadata": {},
     "output_type": "display_data"
    },
    {
     "data": {
      "application/vnd.jupyter.widget-view+json": {
       "model_id": "",
       "version_major": 2,
       "version_minor": 0
      },
      "text/plain": [
       "Render widgets:   0%|          | 0/1 [00:00<?, ?it/s]"
      ]
     },
     "metadata": {},
     "output_type": "display_data"
    },
    {
     "data": {
      "application/vnd.jupyter.widget-view+json": {
       "model_id": "aefbcd1afe814b0b8dc493c013b0ffa4",
       "version_major": 2,
       "version_minor": 0
      },
      "text/plain": [
       "VBox(children=(Tab(children=(Tab(children=(GridBox(children=(VBox(children=(GridspecLayout(children=(HTML(valu…"
      ]
     },
     "metadata": {},
     "output_type": "display_data"
    }
   ],
   "source": [
    "high_price_profile = pandas_profiling.ProfileReport(high_price_df)\n",
    "high_price_profile.to_widgets()"
   ]
  },
  {
   "cell_type": "markdown",
   "id": "94f15ffb",
   "metadata": {},
   "source": [
    "The distributions are very similar except for the column *room_type*, that for this portion of data has a high percentage of apartments, and the column *neighbourhood*. This makes sense, as outliers are probably big apartments, or apartments in expensive neighborhoods."
   ]
  },
  {
   "cell_type": "markdown",
   "id": "5541bc6c",
   "metadata": {},
   "source": [
    "If we drop the outliers we should address the problem of detecting them in production, either with AI or using business knowledge, otherwise predicting them could give inconsistent results."
   ]
  },
  {
   "cell_type": "markdown",
   "id": "d9973846",
   "metadata": {},
   "source": [
    "To improve the results, we should add other variables like house dimensions and number of rooms, and use a feature store for other variables, like the average price per neighbourhood."
   ]
  },
  {
   "cell_type": "markdown",
   "id": "6bf9d572",
   "metadata": {},
   "source": [
    "### Preprocess data and reapply profiling"
   ]
  },
  {
   "cell_type": "code",
   "execution_count": 12,
   "id": "45eca768",
   "metadata": {},
   "outputs": [
    {
     "name": "stderr",
     "output_type": "stream",
     "text": [
      "INFO:__main__:there are 19001 records after preprocessing\n"
     ]
    }
   ],
   "source": [
    "# Drop outliers\n",
    "min_price = 10\n",
    "max_price = 350\n",
    "idx = raw_data_df['price'].between(min_price, max_price)\n",
    "prep_data_df = raw_data_df[idx].copy()\n",
    "logger.info(f'there are {prep_data_df.shape[0]} records after preprocessing')\n",
    "# Convert last_review to datetime\n",
    "prep_data_df['last_review'] = pd.to_datetime(prep_data_df['last_review'])"
   ]
  },
  {
   "cell_type": "code",
   "execution_count": 13,
   "id": "2d4f4f7e",
   "metadata": {},
   "outputs": [
    {
     "data": {
      "application/vnd.jupyter.widget-view+json": {
       "model_id": "889c7085e1d54660962f8e2f18d3e256",
       "version_major": 2,
       "version_minor": 0
      },
      "text/plain": [
       "Summarize dataset:   0%|          | 0/30 [00:00<?, ?it/s]"
      ]
     },
     "metadata": {},
     "output_type": "display_data"
    },
    {
     "data": {
      "application/vnd.jupyter.widget-view+json": {
       "model_id": "bd76cbdd6cfc4ae3952c474207ed8fde",
       "version_major": 2,
       "version_minor": 0
      },
      "text/plain": [
       "Generate report structure:   0%|          | 0/1 [00:00<?, ?it/s]"
      ]
     },
     "metadata": {},
     "output_type": "display_data"
    },
    {
     "data": {
      "application/vnd.jupyter.widget-view+json": {
       "model_id": "",
       "version_major": 2,
       "version_minor": 0
      },
      "text/plain": [
       "Render widgets:   0%|          | 0/1 [00:00<?, ?it/s]"
      ]
     },
     "metadata": {},
     "output_type": "display_data"
    },
    {
     "data": {
      "application/vnd.jupyter.widget-view+json": {
       "model_id": "661abed031504b5cad5eb490db2fe508",
       "version_major": 2,
       "version_minor": 0
      },
      "text/plain": [
       "VBox(children=(Tab(children=(Tab(children=(GridBox(children=(VBox(children=(GridspecLayout(children=(HTML(valu…"
      ]
     },
     "metadata": {},
     "output_type": "display_data"
    }
   ],
   "source": [
    "prep_data_profile = pandas_profiling.ProfileReport(prep_data_df)\n",
    "prep_data_profile.to_widgets()"
   ]
  },
  {
   "cell_type": "markdown",
   "id": "ef1ea3bc",
   "metadata": {},
   "source": [
    "### End run"
   ]
  },
  {
   "cell_type": "code",
   "execution_count": 14,
   "id": "ef1fe807",
   "metadata": {},
   "outputs": [
    {
     "data": {
      "text/html": [
       "<br/>Waiting for W&B process to finish, PID 3955<br/>Program ended successfully."
      ],
      "text/plain": [
       "<IPython.core.display.HTML object>"
      ]
     },
     "metadata": {},
     "output_type": "display_data"
    },
    {
     "data": {
      "application/vnd.jupyter.widget-view+json": {
       "model_id": "",
       "version_major": 2,
       "version_minor": 0
      },
      "text/plain": [
       "VBox(children=(Label(value=' 0.16MB of 0.16MB uploaded (0.01MB deduped)\\r'), FloatProgress(value=1.0, max=1.0)…"
      ]
     },
     "metadata": {},
     "output_type": "display_data"
    },
    {
     "data": {
      "text/html": [
       "Find user logs for this run at: <code>/home/azureuser/udacity-mlops/nd0821-c2-build-model-workflow-starter/src/eda/wandb/run-20220104_130157-3vn6gkrv/logs/debug.log</code>"
      ],
      "text/plain": [
       "<IPython.core.display.HTML object>"
      ]
     },
     "metadata": {},
     "output_type": "display_data"
    },
    {
     "data": {
      "text/html": [
       "Find internal logs for this run at: <code>/home/azureuser/udacity-mlops/nd0821-c2-build-model-workflow-starter/src/eda/wandb/run-20220104_130157-3vn6gkrv/logs/debug-internal.log</code>"
      ],
      "text/plain": [
       "<IPython.core.display.HTML object>"
      ]
     },
     "metadata": {},
     "output_type": "display_data"
    },
    {
     "data": {
      "text/html": [
       "Synced 7 W&B file(s), 0 media file(s), 4 artifact file(s) and 1 other file(s)"
      ],
      "text/plain": [
       "<IPython.core.display.HTML object>"
      ]
     },
     "metadata": {},
     "output_type": "display_data"
    },
    {
     "data": {
      "text/html": [
       "\n",
       "                    <br/>Synced <strong style=\"color:#cdcd00\">northern-terrain-12</strong>: <a href=\"https://wandb.ai/tom-ph/nyc_airbnb/runs/3vn6gkrv\" target=\"_blank\">https://wandb.ai/tom-ph/nyc_airbnb/runs/3vn6gkrv</a><br/>\n",
       "                "
      ],
      "text/plain": [
       "<IPython.core.display.HTML object>"
      ]
     },
     "metadata": {},
     "output_type": "display_data"
    }
   ],
   "source": [
    "run.finish()"
   ]
  },
  {
   "cell_type": "code",
   "execution_count": null,
   "id": "a2fafd75",
   "metadata": {},
   "outputs": [],
   "source": []
  }
 ],
 "metadata": {
  "kernelspec": {
   "display_name": "Python 3 (ipykernel)",
   "language": "python",
   "name": "python3"
  },
  "language_info": {
   "codemirror_mode": {
    "name": "ipython",
    "version": 3
   },
   "file_extension": ".py",
   "mimetype": "text/x-python",
   "name": "python",
   "nbconvert_exporter": "python",
   "pygments_lexer": "ipython3",
   "version": "3.9.9"
  }
 },
 "nbformat": 4,
 "nbformat_minor": 5
}
